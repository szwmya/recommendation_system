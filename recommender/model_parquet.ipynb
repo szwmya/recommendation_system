{
  "cells": [
    {
      "cell_type": "code",
      "execution_count": 3,
      "metadata": {
        "colab": {
          "base_uri": "https://localhost:8080/"
        },
        "id": "Fpjo4q4KHJog",
        "outputId": "1b24b561-692f-47c1-f9fe-c650870b9db7"
      },
      "outputs": [
        {
          "name": "stdout",
          "output_type": "stream",
          "text": [
            "Mounted at /content/drive\n"
          ]
        }
      ],
      "source": [
        "from google.colab import drive, files\n",
        "drive.mount('/content/drive')\n"
      ]
    },
    {
      "cell_type": "code",
      "execution_count": 5,
      "metadata": {
        "colab": {
          "base_uri": "https://localhost:8080/",
          "height": 108
        },
        "id": "ciBwiwD6JTCY",
        "outputId": "19471556-5fe4-40a8-d39e-1ec07bf4a040"
      },
      "outputs": [
        {
          "data": {
            "text/html": [
              "\n",
              "     <input type=\"file\" id=\"files-c9de8f08-d86c-46db-94d9-f430865f7426\" name=\"files[]\" multiple disabled\n",
              "        style=\"border:none\" />\n",
              "     <output id=\"result-c9de8f08-d86c-46db-94d9-f430865f7426\">\n",
              "      Upload widget is only available when the cell has been executed in the\n",
              "      current browser session. Please rerun this cell to enable.\n",
              "      </output>\n",
              "      <script>// Copyright 2017 Google LLC\n",
              "//\n",
              "// Licensed under the Apache License, Version 2.0 (the \"License\");\n",
              "// you may not use this file except in compliance with the License.\n",
              "// You may obtain a copy of the License at\n",
              "//\n",
              "//      http://www.apache.org/licenses/LICENSE-2.0\n",
              "//\n",
              "// Unless required by applicable law or agreed to in writing, software\n",
              "// distributed under the License is distributed on an \"AS IS\" BASIS,\n",
              "// WITHOUT WARRANTIES OR CONDITIONS OF ANY KIND, either express or implied.\n",
              "// See the License for the specific language governing permissions and\n",
              "// limitations under the License.\n",
              "\n",
              "/**\n",
              " * @fileoverview Helpers for google.colab Python module.\n",
              " */\n",
              "(function(scope) {\n",
              "function span(text, styleAttributes = {}) {\n",
              "  const element = document.createElement('span');\n",
              "  element.textContent = text;\n",
              "  for (const key of Object.keys(styleAttributes)) {\n",
              "    element.style[key] = styleAttributes[key];\n",
              "  }\n",
              "  return element;\n",
              "}\n",
              "\n",
              "// Max number of bytes which will be uploaded at a time.\n",
              "const MAX_PAYLOAD_SIZE = 100 * 1024;\n",
              "\n",
              "function _uploadFiles(inputId, outputId) {\n",
              "  const steps = uploadFilesStep(inputId, outputId);\n",
              "  const outputElement = document.getElementById(outputId);\n",
              "  // Cache steps on the outputElement to make it available for the next call\n",
              "  // to uploadFilesContinue from Python.\n",
              "  outputElement.steps = steps;\n",
              "\n",
              "  return _uploadFilesContinue(outputId);\n",
              "}\n",
              "\n",
              "// This is roughly an async generator (not supported in the browser yet),\n",
              "// where there are multiple asynchronous steps and the Python side is going\n",
              "// to poll for completion of each step.\n",
              "// This uses a Promise to block the python side on completion of each step,\n",
              "// then passes the result of the previous step as the input to the next step.\n",
              "function _uploadFilesContinue(outputId) {\n",
              "  const outputElement = document.getElementById(outputId);\n",
              "  const steps = outputElement.steps;\n",
              "\n",
              "  const next = steps.next(outputElement.lastPromiseValue);\n",
              "  return Promise.resolve(next.value.promise).then((value) => {\n",
              "    // Cache the last promise value to make it available to the next\n",
              "    // step of the generator.\n",
              "    outputElement.lastPromiseValue = value;\n",
              "    return next.value.response;\n",
              "  });\n",
              "}\n",
              "\n",
              "/**\n",
              " * Generator function which is called between each async step of the upload\n",
              " * process.\n",
              " * @param {string} inputId Element ID of the input file picker element.\n",
              " * @param {string} outputId Element ID of the output display.\n",
              " * @return {!Iterable<!Object>} Iterable of next steps.\n",
              " */\n",
              "function* uploadFilesStep(inputId, outputId) {\n",
              "  const inputElement = document.getElementById(inputId);\n",
              "  inputElement.disabled = false;\n",
              "\n",
              "  const outputElement = document.getElementById(outputId);\n",
              "  outputElement.innerHTML = '';\n",
              "\n",
              "  const pickedPromise = new Promise((resolve) => {\n",
              "    inputElement.addEventListener('change', (e) => {\n",
              "      resolve(e.target.files);\n",
              "    });\n",
              "  });\n",
              "\n",
              "  const cancel = document.createElement('button');\n",
              "  inputElement.parentElement.appendChild(cancel);\n",
              "  cancel.textContent = 'Cancel upload';\n",
              "  const cancelPromise = new Promise((resolve) => {\n",
              "    cancel.onclick = () => {\n",
              "      resolve(null);\n",
              "    };\n",
              "  });\n",
              "\n",
              "  // Wait for the user to pick the files.\n",
              "  const files = yield {\n",
              "    promise: Promise.race([pickedPromise, cancelPromise]),\n",
              "    response: {\n",
              "      action: 'starting',\n",
              "    }\n",
              "  };\n",
              "\n",
              "  cancel.remove();\n",
              "\n",
              "  // Disable the input element since further picks are not allowed.\n",
              "  inputElement.disabled = true;\n",
              "\n",
              "  if (!files) {\n",
              "    return {\n",
              "      response: {\n",
              "        action: 'complete',\n",
              "      }\n",
              "    };\n",
              "  }\n",
              "\n",
              "  for (const file of files) {\n",
              "    const li = document.createElement('li');\n",
              "    li.append(span(file.name, {fontWeight: 'bold'}));\n",
              "    li.append(span(\n",
              "        `(${file.type || 'n/a'}) - ${file.size} bytes, ` +\n",
              "        `last modified: ${\n",
              "            file.lastModifiedDate ? file.lastModifiedDate.toLocaleDateString() :\n",
              "                                    'n/a'} - `));\n",
              "    const percent = span('0% done');\n",
              "    li.appendChild(percent);\n",
              "\n",
              "    outputElement.appendChild(li);\n",
              "\n",
              "    const fileDataPromise = new Promise((resolve) => {\n",
              "      const reader = new FileReader();\n",
              "      reader.onload = (e) => {\n",
              "        resolve(e.target.result);\n",
              "      };\n",
              "      reader.readAsArrayBuffer(file);\n",
              "    });\n",
              "    // Wait for the data to be ready.\n",
              "    let fileData = yield {\n",
              "      promise: fileDataPromise,\n",
              "      response: {\n",
              "        action: 'continue',\n",
              "      }\n",
              "    };\n",
              "\n",
              "    // Use a chunked sending to avoid message size limits. See b/62115660.\n",
              "    let position = 0;\n",
              "    do {\n",
              "      const length = Math.min(fileData.byteLength - position, MAX_PAYLOAD_SIZE);\n",
              "      const chunk = new Uint8Array(fileData, position, length);\n",
              "      position += length;\n",
              "\n",
              "      const base64 = btoa(String.fromCharCode.apply(null, chunk));\n",
              "      yield {\n",
              "        response: {\n",
              "          action: 'append',\n",
              "          file: file.name,\n",
              "          data: base64,\n",
              "        },\n",
              "      };\n",
              "\n",
              "      let percentDone = fileData.byteLength === 0 ?\n",
              "          100 :\n",
              "          Math.round((position / fileData.byteLength) * 100);\n",
              "      percent.textContent = `${percentDone}% done`;\n",
              "\n",
              "    } while (position < fileData.byteLength);\n",
              "  }\n",
              "\n",
              "  // All done.\n",
              "  yield {\n",
              "    response: {\n",
              "      action: 'complete',\n",
              "    }\n",
              "  };\n",
              "}\n",
              "\n",
              "scope.google = scope.google || {};\n",
              "scope.google.colab = scope.google.colab || {};\n",
              "scope.google.colab._files = {\n",
              "  _uploadFiles,\n",
              "  _uploadFilesContinue,\n",
              "};\n",
              "})(self);\n",
              "</script> "
            ],
            "text/plain": [
              "<IPython.core.display.HTML object>"
            ]
          },
          "metadata": {},
          "output_type": "display_data"
        },
        {
          "name": "stdout",
          "output_type": "stream",
          "text": [
            "Saving kaggle.json to kaggle.json\n"
          ]
        },
        {
          "data": {
            "text/plain": [
              "{'kaggle.json': b'{\"username\":\"sxwmya\",\"key\":\"d6915e0187992d17d63a2a7c67cf6fee\"}'}"
            ]
          },
          "execution_count": 5,
          "metadata": {},
          "output_type": "execute_result"
        }
      ],
      "source": [
        "from google.colab import files\n",
        "files.upload()\n",
        "\n"
      ]
    },
    {
      "cell_type": "code",
      "execution_count": 6,
      "metadata": {
        "id": "Zn38ueQbKoBk"
      },
      "outputs": [],
      "source": [
        "!pip install -q kaggle\n",
        "!mkdir ~/.kaggle\n",
        "!cp kaggle.json ~/.kaggle/\n",
        "!chmod 600 ~/.kaggle/kaggle.json\n"
      ]
    },
    {
      "cell_type": "code",
      "execution_count": 7,
      "metadata": {
        "colab": {
          "base_uri": "https://localhost:8080/"
        },
        "id": "i3s9aqcMKvoJ",
        "outputId": "4daf80c7-d151-4f92-c30c-5d9d6cd40bd7"
      },
      "outputs": [
        {
          "name": "stdout",
          "output_type": "stream",
          "text": [
            "Downloading the-movies-dataset.zip to /content\n",
            " 97% 221M/228M [00:01<00:00, 206MB/s]\n",
            "100% 228M/228M [00:01<00:00, 221MB/s]\n"
          ]
        }
      ],
      "source": [
        "!kaggle datasets download -d rounakbanik/the-movies-dataset\n"
      ]
    },
    {
      "cell_type": "code",
      "execution_count": 8,
      "metadata": {
        "colab": {
          "base_uri": "https://localhost:8080/"
        },
        "id": "ocTA8-AOK1uL",
        "outputId": "2b6838bc-4ccd-4756-e7af-9efbdc975937"
      },
      "outputs": [
        {
          "name": "stdout",
          "output_type": "stream",
          "text": [
            "Archive:  the-movies-dataset.zip\n",
            "  inflating: /content/data/credits.csv  \n",
            "  inflating: /content/data/keywords.csv  \n",
            "  inflating: /content/data/links.csv  \n",
            "  inflating: /content/data/links_small.csv  \n",
            "  inflating: /content/data/movies_metadata.csv  \n",
            "  inflating: /content/data/ratings.csv  \n",
            "  inflating: /content/data/ratings_small.csv  \n"
          ]
        }
      ],
      "source": [
        "!unzip the-movies-dataset.zip -d /content/data\n",
        "!rm the-movies-dataset.zip\n"
      ]
    },
    {
      "cell_type": "code",
      "execution_count": 11,
      "metadata": {
        "colab": {
          "base_uri": "https://localhost:8080/"
        },
        "id": "tTx5FbvNK6FC",
        "outputId": "565f62d5-79a4-4322-becf-f60e16960d56"
      },
      "outputs": [
        {
          "name": "stdout",
          "output_type": "stream",
          "text": [
            "\u001b[2K     \u001b[90m━━━━━━━━━━━━━━━━━━━━━━━━━━━━━━━━━━━━━━━━\u001b[0m \u001b[32m1.7/1.7 MB\u001b[0m \u001b[31m10.0 MB/s\u001b[0m eta \u001b[36m0:00:00\u001b[0m\n",
            "\u001b[2K     \u001b[90m━━━━━━━━━━━━━━━━━━━━━━━━━━━━━━━━━━━━━━━━\u001b[0m \u001b[32m2.0/2.0 MB\u001b[0m \u001b[31m17.3 MB/s\u001b[0m eta \u001b[36m0:00:00\u001b[0m\n",
            "\u001b[?25h"
          ]
        }
      ],
      "source": [
        "!pip install --quiet fastparquet\n",
        "!pip install --quiet pyarrow\n"
      ]
    },
    {
      "cell_type": "code",
      "execution_count": 12,
      "metadata": {
        "id": "1z5pZEZhLzKv"
      },
      "outputs": [],
      "source": [
        "%matplotlib inline\n",
        "import pandas as pd\n",
        "import numpy as np\n",
        "from ast import literal_eval\n",
        "from sklearn.feature_extraction.text import CountVectorizer\n",
        "from sklearn.metrics.pairwise import cosine_similarity\n",
        "from nltk.stem.snowball import SnowballStemmer\n",
        "import pyarrow as pa\n",
        "import pyarrow.parquet as pq\n",
        "import warnings\n",
        "warnings.simplefilter('ignore')\n"
      ]
    },
    {
      "cell_type": "code",
      "execution_count": 13,
      "metadata": {
        "id": "ENMN4PapMS5K"
      },
      "outputs": [],
      "source": [
        "def get_director(x):\n",
        "\n",
        "    for i in x:\n",
        "        if i['job'] == 'Director':\n",
        "            return i['name']\n",
        "    return np.nan\n"
      ]
    },
    {
      "cell_type": "code",
      "execution_count": 14,
      "metadata": {
        "colab": {
          "base_uri": "https://localhost:8080/"
        },
        "id": "oIKRZ4MOMZ6S",
        "outputId": "6f633f4a-997a-47cd-e943-b1bf64602552"
      },
      "outputs": [
        {
          "name": "stdout",
          "output_type": "stream",
          "text": [
            "(46628, 27)\n"
          ]
        }
      ],
      "source": [
        "# Reading datasets\n",
        "movies_dataset = pd.read_csv('/content/data/movies_metadata.csv')\n",
        "credits = pd.read_csv('/content/data/credits.csv')\n",
        "keywords = pd.read_csv('/content/data/keywords.csv')\n",
        "links = pd.read_csv('/content/data/links.csv')\n",
        "\n",
        "# Dropping three rows with string dates in the release_date column\n",
        "movies_dataset = movies_dataset.drop([19730, 29503, 35587])\n",
        "\n",
        "# Extracting genres of movies from the genres dictionary\n",
        "movies_dataset['genres'] = movies_dataset['genres'].fillna('[]').apply(literal_eval).apply(lambda x: [i['name'] for i in x] if isinstance(x, list) else [])\n",
        "\n",
        "# Convert to a common data type for the primary key in our dataset\n",
        "keywords['id'] = keywords['id'].astype('int')\n",
        "credits['id'] = credits['id'].astype('int')\n",
        "movies_dataset['id'] = movies_dataset['id'].astype('int')\n",
        "\n",
        "# Merging movies dataset with credits & keywords to form a master dataset\n",
        "movies_dataset = movies_dataset.merge(credits, on='id')\n",
        "master_dataset = movies_dataset.merge(keywords, on='id')\n",
        "\n",
        "# Filtering master dataset based on links\n",
        "links = links[links['tmdbId'].notnull()]['tmdbId'].astype('int')\n",
        "master_dataset = master_dataset[master_dataset['id'].isin(links)]\n",
        "\n",
        "# Displaying the shape of the resulting master dataset\n",
        "print(master_dataset.shape)\n"
      ]
    },
    {
      "cell_type": "code",
      "execution_count": 15,
      "metadata": {
        "id": "GjuDTgEeNCV8"
      },
      "outputs": [],
      "source": [
        "master_dataset['cast'] = master_dataset['cast'].apply(literal_eval)\n",
        "master_dataset['crew'] = master_dataset['crew'].apply(literal_eval)\n",
        "master_dataset['keywords'] = master_dataset['keywords'].apply(literal_eval)\n"
      ]
    },
    {
      "cell_type": "code",
      "execution_count": 16,
      "metadata": {
        "id": "Bqp_7-hxNUye"
      },
      "outputs": [],
      "source": [
        "master_dataset['cast'] = master_dataset['cast'].apply(lambda x: [i['name'] for i in x] if isinstance(x, list) else [])\n",
        "master_dataset['cast'] = master_dataset['cast'].apply(lambda x: x[:3] if len(x) >=3 else x)\n"
      ]
    },
    {
      "cell_type": "code",
      "execution_count": 17,
      "metadata": {
        "id": "5PnZ7TWYNXtP"
      },
      "outputs": [],
      "source": [
        "master_dataset['director'] = master_dataset['crew'].apply(get_director)\n"
      ]
    },
    {
      "cell_type": "code",
      "execution_count": 19,
      "metadata": {
        "colab": {
          "base_uri": "https://localhost:8080/"
        },
        "id": "R6vIIEn5NaMG",
        "outputId": "7773c2f2-1bfa-4719-9474-f07a9602842c"
      },
      "outputs": [
        {
          "name": "stdout",
          "output_type": "stream",
          "text": [
            "{'id': 187056, 'name': 'woman director'}     3128\n",
            "{'id': 10183, 'name': 'independent film'}    1942\n",
            "{'id': 9826, 'name': 'murder'}               1314\n",
            "{'id': 818, 'name': 'based on novel'}         841\n",
            "{'id': 4344, 'name': 'musical'}               734\n",
            "Name: keyword, dtype: int64\n"
          ]
        }
      ],
      "source": [
        "master_dataset['cast'] = master_dataset['cast'].apply(lambda x: [str.lower(i.replace(\" \", \"\")) for i in x])\n",
        "master_dataset['main_director'] = master_dataset['director']\n",
        "master_dataset['director'] = master_dataset['director'].astype('str').apply(lambda x: str.lower(x.replace(\" \", \"\")))\n",
        "master_dataset['director'] = master_dataset['director'].apply(lambda x: [x,x,x])\n",
        "s = master_dataset.apply(lambda x: pd.Series(x['keywords']), axis=1).stack().reset_index(level=1, drop=True)\n",
        "s.name = 'keyword'\n",
        "s = s.value_counts()\n",
        "print(s[:5])\n"
      ]
    },
    {
      "cell_type": "code",
      "execution_count": 21,
      "metadata": {
        "colab": {
          "base_uri": "https://localhost:8080/"
        },
        "id": "9FiDkEySY95x",
        "outputId": "d30d9231-03ea-45d8-aabd-688de10a3c5e"
      },
      "outputs": [
        {
          "name": "stdout",
          "output_type": "stream",
          "text": [
            "0    [jealousi, toy, boy, friendship, friend, rival...\n",
            "1    [boardgam, disappear, basedonchildren'sbook, n...\n",
            "2       [fish, bestfriend, duringcreditssting, oldmen]\n",
            "Name: keywords, dtype: object\n"
          ]
        }
      ],
      "source": [
        "# Checking and handling the case where 'keywords' column contains dictionaries\n",
        "master_dataset['keywords'] = master_dataset['keywords'].apply(lambda x: [i['name'] if isinstance(i, dict) else i for i in x])\n",
        "\n",
        "# Applying stemming and lowercase operations\n",
        "master_dataset['keywords'] = master_dataset['keywords'].apply(lambda x: [stemmer.stem(i) for i in x])\n",
        "master_dataset['keywords'] = master_dataset['keywords'].apply(lambda x: [str.lower(i.replace(\" \", \"\")) for i in x])\n",
        "\n",
        "print(master_dataset['keywords'].head(3))\n",
        "\n"
      ]
    },
    {
      "cell_type": "code",
      "execution_count": 22,
      "metadata": {
        "colab": {
          "base_uri": "https://localhost:8080/"
        },
        "id": "pDXhyRd3Zm8g",
        "outputId": "74dc6414-98cc-4c34-8567-629a18fcea3c"
      },
      "outputs": [
        {
          "name": "stdout",
          "output_type": "stream",
          "text": [
            "0    jealousi toy boy friendship friend rivalri boy...\n",
            "1    boardgam disappear basedonchildren'sbook newho...\n",
            "2    fish bestfriend duringcreditssting oldmen walt...\n",
            "Name: soup, dtype: object\n"
          ]
        }
      ],
      "source": [
        "master_dataset['soup'] = master_dataset['keywords'] + master_dataset['cast'] + master_dataset['director'] + master_dataset['genres']\n",
        "master_dataset['soup'] = master_dataset['soup'].apply(lambda x: ' '.join(x))\n",
        "print(master_dataset['soup'].head(3))\n"
      ]
    },
    {
      "cell_type": "code",
      "execution_count": 23,
      "metadata": {
        "id": "1oLaOI4zZrk3"
      },
      "outputs": [],
      "source": [
        "master_dataset.drop(['adult', 'belongs_to_collection', 'budget', 'homepage', 'original_language', 'production_companies', 'production_countries', 'revenue', 'runtime', 'spoken_languages', 'status', 'video'], axis=1, inplace=True)\n",
        "master_dataset.drop(['overview', 'tagline', 'vote_average', 'vote_count', 'cast', 'crew', 'keywords', 'director'], axis=1, inplace=True)\n",
        "master_dataset.drop(['id', 'imdb_id', 'original_title', 'poster_path', 'genres'], axis=1, inplace=True)\n"
      ]
    },
    {
      "cell_type": "code",
      "execution_count": 24,
      "metadata": {
        "id": "iWtsiKC3Zusj"
      },
      "outputs": [],
      "source": [
        "master_dataset['popularity'] = master_dataset.apply(lambda r: r['popularity'] if type(r['popularity']) == float else np.nan, axis=1)\n",
        "master_dataset.dropna(inplace=True)\n"
      ]
    },
    {
      "cell_type": "code",
      "execution_count": 25,
      "metadata": {
        "id": "uhmnReJPZw5K"
      },
      "outputs": [],
      "source": [
        "master_dataset['main_director'] = master_dataset.apply(lambda r: r['main_director'] if len(r['main_director']) > 1 else np.nan, axis=1)\n",
        "master_dataset.dropna(inplace=True)\n"
      ]
    },
    {
      "cell_type": "code",
      "execution_count": 27,
      "metadata": {
        "id": "v9FUpP1kZ0sn"
      },
      "outputs": [],
      "source": [
        "master_dataset.sort_values(by=['popularity'], ascending=False, inplace=True)\n",
        "\n",
        "# Drop 'popularity' column after sorting\n",
        "master_dataset.drop(['popularity'], axis=1, inplace=True)\n",
        "\n",
        "# Reset index after sorting\n",
        "master_dataset.reset_index(inplace=True, drop=True)\n",
        "\n",
        "# Check 'release_date' column for non-string values and remove them\n",
        "master_dataset['release_date'] = master_dataset.apply(lambda r: r['release_date'] if len(r['release_date']) > 1 else np.nan, axis=1)\n",
        "master_dataset.dropna(inplace=True)\n"
      ]
    },
    {
      "cell_type": "code",
      "execution_count": 28,
      "metadata": {
        "colab": {
          "base_uri": "https://localhost:8080/"
        },
        "id": "Mjv-hkEUayz_",
        "outputId": "9ad14bd6-b79f-4a29-83f3-c0a618e74478"
      },
      "outputs": [
        {
          "name": "stdout",
          "output_type": "stream",
          "text": [
            "  release_date                           title  \\\n",
            "0   2015-06-17                         Minions   \n",
            "1   2014-10-24                      Big Hero 6   \n",
            "2   2016-02-09                        Deadpool   \n",
            "3   2017-04-19  Guardians of the Galaxy Vol. 2   \n",
            "4   2009-12-10                          Avatar   \n",
            "\n",
            "                                   main_director  \\\n",
            "0              [kylebalda, kylebalda, kylebalda]   \n",
            "1  [chriswilliams, chriswilliams, chriswilliams]   \n",
            "2              [timmiller, timmiller, timmiller]   \n",
            "3              [jamesgunn, jamesgunn, jamesgunn]   \n",
            "4     [jamescameron, jamescameron, jamescameron]   \n",
            "\n",
            "                                                soup  \n",
            "0  assist aftercreditssting duringcreditssting ev...  \n",
            "1  brotherbrotherrelationship hero talent reveng ...  \n",
            "2  antihero mercenari marvelcom superhero basedon...  \n",
            "3  sequel superhero basedoncom misfit space outer...  \n",
            "4  cultureclash futur spacewar spacecoloni societ...  \n"
          ]
        }
      ],
      "source": [
        "master_dataset = master_dataset[:2500]\n",
        "print(master_dataset.head())"
      ]
    },
    {
      "cell_type": "code",
      "execution_count": 29,
      "metadata": {
        "colab": {
          "base_uri": "https://localhost:8080/"
        },
        "id": "2uBIhkPbbAr0",
        "outputId": "0aa87226-f0e3-4458-c387-043beeea20d7"
      },
      "outputs": [
        {
          "name": "stdout",
          "output_type": "stream",
          "text": [
            "(2500, 4)\n"
          ]
        }
      ],
      "source": [
        "print(master_dataset.shape)"
      ]
    },
    {
      "cell_type": "code",
      "execution_count": 30,
      "metadata": {
        "colab": {
          "base_uri": "https://localhost:8080/"
        },
        "id": "RA9hUquWbgyd",
        "outputId": "cbcc037f-f7a8-4b29-a60d-0fd6a2ee3712"
      },
      "outputs": [
        {
          "name": "stdout",
          "output_type": "stream",
          "text": [
            "(2500, 7277)\n"
          ]
        }
      ],
      "source": [
        "count = CountVectorizer(analyzer='word', ngram_range=(1, 2), min_df=2, stop_words='english')\n",
        "count_matrix = count.fit_transform(master_dataset['soup'])\n",
        "print(count_matrix.shape)\n"
      ]
    },
    {
      "cell_type": "code",
      "execution_count": 31,
      "metadata": {
        "id": "a1pCbQwCbkNA"
      },
      "outputs": [],
      "source": [
        "table = pa.Table.from_pandas(pd.DataFrame(cosine_similarity(count_matrix, count_matrix)))\n",
        "master_dataset.to_parquet('/content/movie_database.parquet', engine='fastparquet', index=False)\n",
        "pq.write_table(table, '/content/model.parquet')\n"
      ]
    },
    {
      "cell_type": "code",
      "execution_count": 36,
      "metadata": {
        "colab": {
          "base_uri": "https://localhost:8080/"
        },
        "id": "u9bvrQxXb7Rl",
        "outputId": "c6e6bf52-881e-40bc-9c60-5ef4805df37c"
      },
      "outputs": [
        {
          "name": "stdout",
          "output_type": "stream",
          "text": [
            "Enter a movie Name: Toy Story\n",
            "Movie Title                              | Director             | Release Date   \n",
            "--------------------------------------------------------------------------------\n",
            "Toy Story 2                              | b'[\"johnlasseter\",\"johnlasseter\",\"johnlasseter\"]' | 1999-10-30     \n",
            "Cars 2                                   | b'[\"johnlasseter\",\"johnlasseter\",\"johnlasseter\"]' | 2011-06-11     \n",
            "A Bug's Life                             | b'[\"johnlasseter\",\"johnlasseter\",\"johnlasseter\"]' | 1998-11-25     \n",
            "Cars                                     | b'[\"johnlasseter\",\"johnlasseter\",\"johnlasseter\"]' | 2006-06-08     \n",
            "Oliver & Company                         | b'[\"georgescribner\",\"georgescribner\",\"georgescribner\"]' | 1988-11-18     \n",
            "Toy Story 3                              | b'[\"leeunkrich\",\"leeunkrich\",\"leeunkrich\"]' | 2010-06-16     \n",
            "Dug's Special Mission                    | b'[\"ronniedelcarmen\",\"ronniedelcarmen\",\"ronniedelcarmen\"]' | 2009-11-09     \n",
            "Leroy & Stitch                           | b'[\"robertsgannaway\",\"robertsgannaway\",\"robertsgannaway\"]' | 2006-06-23     \n",
            "Blank Check                              | b'[\"rupertwainwright\",\"rupertwainwright\",\"rupertwainwright\"]' | 1994-02-11     \n",
            "Jungle 2 Jungle                          | b'[\"johnpasquin\",\"johnpasquin\",\"johnpasquin\"]' | 1997-03-07     \n",
            "The Boxtrolls                            | b'[\"anthonystacchi\",\"anthonystacchi\",\"anthonystacchi\"]' | 2014-09-10     \n",
            "Spirit: Stallion of the Cimarron         | b'[\"kellyasbury\",\"kellyasbury\",\"kellyasbury\"]' | 2002-05-24     \n",
            "Surf's Up                                | b'[\"ashbrannon\",\"ashbrannon\",\"ashbrannon\"]' | 2007-06-08     \n",
            "The Adventures of Rocky & Bullwinkle     | b'[\"desmcanuff\",\"desmcanuff\",\"desmcanuff\"]' | 2000-06-30     \n"
          ]
        }
      ],
      "source": [
        "import pandas as pd\n",
        "import pyarrow as pa\n",
        "\n",
        "# Loading the trained model and master dataset\n",
        "master_dataset = pd.read_parquet('/content/movie_database.parquet')\n",
        "table = pa.parquet.read_table('/content/model.parquet').to_pandas()\n",
        "\n",
        "# Resetting the index and creating indices\n",
        "master_dataset = master_dataset.reset_index()\n",
        "titles = master_dataset['title']\n",
        "indices = pd.Series(master_dataset.index, index=master_dataset['title'])\n",
        "\n",
        "# Function for getting movie recommendations\n",
        "def get_recommendations(movie_id_from_db, movie_db):\n",
        "    try:\n",
        "        sim_scores = list(enumerate(movie_db[movie_id_from_db]))\n",
        "        sim_scores = sorted(sim_scores, key=lambda x: x[1], reverse=True)\n",
        "        sim_scores = sim_scores[1:15]  # get top 15 Recommendations\n",
        "        movie_indices = [i[0] for i in sim_scores]\n",
        "        output = master_dataset.iloc[movie_indices]\n",
        "        output.reset_index(inplace=True, drop=True)\n",
        "        response = []\n",
        "        for i in range(len(output)):\n",
        "            response.append({\n",
        "                'movie_title': output['title'].iloc[i],\n",
        "                'movie_release_date': output['release_date'].iloc[i],\n",
        "                'movie_director': output['main_director'].iloc[i],\n",
        "                'google_link': \"https://www.google.com/search?q=\" + '+'.join(output['title'].iloc[i].strip().split())\n",
        "            })\n",
        "        return response\n",
        "    except Exception as e:\n",
        "        print(\"error: \", e)\n",
        "        return []\n",
        "\n",
        "# User input and displaying recommendations\n",
        "movie_name = input('Enter a movie Name: ')\n",
        "movie_index = titles.to_list().index(movie_name)\n",
        "recommendations = get_recommendations(movie_index, table)\n",
        "# Displaying recommendations\n",
        "print(f\"{'Movie Title':<40} | {'Director':<20} | {'Release Date':<15}\")\n",
        "print(f\"-\"*80)\n",
        "for recommendation in recommendations:\n",
        "    print(\"{:<40} | {:<20} | {:<15}\".format(\n",
        "        str(recommendation['movie_title']),\n",
        "        str(recommendation['movie_director']),\n",
        "        str(recommendation['movie_release_date'])\n",
        "    ))\n",
        "\n",
        "\n",
        "\n"
      ]
    },
    {
      "cell_type": "code",
      "execution_count": 39,
      "metadata": {
        "colab": {
          "base_uri": "https://localhost:8080/",
          "height": 17
        },
        "id": "bun36SIQqfYx",
        "outputId": "298794ed-d077-45a0-a361-7bbaff49b9ca"
      },
      "outputs": [
        {
          "data": {
            "application/javascript": "\n    async function download(id, filename, size) {\n      if (!google.colab.kernel.accessAllowed) {\n        return;\n      }\n      const div = document.createElement('div');\n      const label = document.createElement('label');\n      label.textContent = `Downloading \"${filename}\": `;\n      div.appendChild(label);\n      const progress = document.createElement('progress');\n      progress.max = size;\n      div.appendChild(progress);\n      document.body.appendChild(div);\n\n      const buffers = [];\n      let downloaded = 0;\n\n      const channel = await google.colab.kernel.comms.open(id);\n      // Send a message to notify the kernel that we're ready.\n      channel.send({})\n\n      for await (const message of channel.messages) {\n        // Send a message to notify the kernel that we're ready.\n        channel.send({})\n        if (message.buffers) {\n          for (const buffer of message.buffers) {\n            buffers.push(buffer);\n            downloaded += buffer.byteLength;\n            progress.value = downloaded;\n          }\n        }\n      }\n      const blob = new Blob(buffers, {type: 'application/binary'});\n      const a = document.createElement('a');\n      a.href = window.URL.createObjectURL(blob);\n      a.download = filename;\n      div.appendChild(a);\n      a.click();\n      div.remove();\n    }\n  ",
            "text/plain": [
              "<IPython.core.display.Javascript object>"
            ]
          },
          "metadata": {},
          "output_type": "display_data"
        },
        {
          "data": {
            "application/javascript": "download(\"download_d559bafb-119f-4843-b656-5fcb30ba6203\", \"your_model.joblib\", 178321)",
            "text/plain": [
              "<IPython.core.display.Javascript object>"
            ]
          },
          "metadata": {},
          "output_type": "display_data"
        }
      ],
      "source": [
        "from google.colab import files\n",
        "\n",
        "# Download the saved model file\n",
        "files.download('your_model.joblib')\n"
      ]
    }
  ],
  "metadata": {
    "colab": {
      "provenance": [],
      "toc_visible": true
    },
    "kernelspec": {
      "display_name": "Python 3",
      "name": "python3"
    },
    "language_info": {
      "name": "python",
      "version": "3.12.1"
    }
  },
  "nbformat": 4,
  "nbformat_minor": 0
}
